{
  "metadata": {
    "kernelspec": {
      "name": "python",
      "display_name": "Pyolite",
      "language": "python"
    },
    "language_info": {
      "codemirror_mode": {
        "name": "python",
        "version": 3
      },
      "file_extension": ".py",
      "mimetype": "text/x-python",
      "name": "python",
      "nbconvert_exporter": "python",
      "pygments_lexer": "ipython3",
      "version": "3.8"
    }
  },
  "nbformat_minor": 4,
  "nbformat": 4,
  "cells": [
    {
      "cell_type": "markdown",
      "source": "<center>\n    <img src=\"https://cf-courses-data.s3.us.cloud-object-storage.appdomain.cloud/IBMDeveloperSkillsNetwork-DS0105EN-SkillsNetwork/labs/Module2/images/SN_web_lightmode.png\" width=\"300\" alt=\"cognitiveclass.ai logo\"  />\n</center>\n",
      "metadata": {}
    },
    {
      "cell_type": "markdown",
      "source": "#### Add your code below following the instructions given in the course\n",
      "metadata": {}
    },
    {
      "cell_type": "markdown",
      "source": "# My Jupyter Notebook on Skills Network Labs",
      "metadata": {}
    },
    {
      "cell_type": "markdown",
      "source": "My name is __Sean Tsou__.<br>\nI am pursueing the career of quantative reaearcher.",
      "metadata": {}
    },
    {
      "cell_type": "markdown",
      "source": "_Because the economic world get more complicated and connected to each other, I will need a method to analyze and undersstand it. Data science is the solution to the need._",
      "metadata": {}
    },
    {
      "cell_type": "markdown",
      "source": "### The following code is the summation from 1 to 100.",
      "metadata": {}
    },
    {
      "cell_type": "code",
      "source": "num = 0\nfor i in range(1, 101):\n    num = num + i  \nprint (num)",
      "metadata": {
        "trusted": true
      },
      "execution_count": 19,
      "outputs": [
        {
          "name": "stdout",
          "text": "5050\n",
          "output_type": "stream"
        }
      ]
    },
    {
      "cell_type": "markdown",
      "source": "******\n - Main Bulleted list\n     * 1st sub-bullet list\n     * 2nd sub-bullet list\n\n1. number list\n    1. sub-set\n    2. sub-set\n-----\n\n\n",
      "metadata": {}
    },
    {
      "cell_type": "code",
      "source": "",
      "metadata": {},
      "execution_count": null,
      "outputs": []
    }
  ]
}